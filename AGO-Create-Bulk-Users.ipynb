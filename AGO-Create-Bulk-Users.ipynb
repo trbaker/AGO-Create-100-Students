{
 "cells": [
  {
   "cell_type": "markdown",
   "metadata": {},
   "source": [
    "# Create 100 Users in an ArcGIS Online organization\n",
    "This script was adapted from sample code at: https://developers.arcgis.com/python/sample-notebooks/clone-portal-users-groups-and-content/ \n",
    "\n",
    "- Tom https://github.com/trbaker \n",
    "\n"
   ]
  },
  {
   "cell_type": "code",
   "execution_count": 3,
   "metadata": {
    "collapsed": true
   },
   "outputs": [],
   "source": [
    "# import enviros and set vars\n",
    "from arcgis.gis import GIS\n",
    "from IPython.display import display\n",
    "\n",
    "userCount=2   # this is the number of anon student accounts to generate. if you want 100, set this number to 100.\n",
    "orgurl = \"http://\"   # use full URL, eg http://mySchoolName.maps.arcgis.com\n",
    "adminuser = \"\" # login for the admin account creating the new users\n",
    "adminpw = \"\"   # password for the admin account creating new users\n",
    "\n",
    "genericStudentBaseUsername = \"orgStudent\"  #CHANGE THIS VALUE. This string is the base username. An incremented integer is appended. Example: \"TigerStudentAcct\" \n",
    "genericStudentpw = \"password2017!\"   # change this password. It will be the default password for all new student accounts.\n",
    "genericStudentEmail = \"\" # change this email to a teacher's or administrator's email (eg teacherlastname@myschool.org)\n",
    "genericStudentLevel = \"org_user\"  # By default use: org_user  Other options include: org_publisher, org_admin\n",
    "\n",
    "# If script fails, realize that the variable value for \"genericStudentBaseUsername\" should be unique in all of ArcGIS Online."
   ]
  },
  {
   "cell_type": "code",
   "execution_count": null,
   "metadata": {},
   "outputs": [],
   "source": [
    "gis = GIS(orgurl, adminuser, adminpw)\n",
    "\n",
    "for j in range(0,userCount):\n",
    "    try:\n",
    "        stuName=genericStudentBaseUsername+str(j)\n",
    "        target_user = gis.users.create(stuName, genericStudentpw, 'Anon', \n",
    "            'Student', genericStudentEmail,'Description: temporary user account', genericStudentLevel)\n",
    "        target_user\n",
    "        display(target_user)\n",
    "    except Exception as Ex:\n",
    "        print(str(Ex))\n",
    "        print(\"Unable to create user \")\n",
    "    "
   ]
  }
 ],
 "metadata": {
  "kernelspec": {
   "display_name": "Python 3",
   "language": "python",
   "name": "python3"
  },
  "language_info": {
   "codemirror_mode": {
    "name": "ipython",
    "version": 3
   },
   "file_extension": ".py",
   "mimetype": "text/x-python",
   "name": "python",
   "nbconvert_exporter": "python",
   "pygments_lexer": "ipython3",
   "version": "3.6.1"
  }
 },
 "nbformat": 4,
 "nbformat_minor": 2
}
